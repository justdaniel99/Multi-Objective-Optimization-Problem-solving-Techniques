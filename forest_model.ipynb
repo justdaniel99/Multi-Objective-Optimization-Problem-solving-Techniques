{
 "cells": [
  {
   "cell_type": "code",
   "execution_count": null,
   "metadata": {},
   "outputs": [],
   "source": [
    "# Andrianov Daniil, CMC MSU student of 501 group\n",
    "# \"Forestry Model\" practical work\n",
    "# Subject: Multi-Objective Optimization Problem-solving Techniques\n",
    "# \n",
    "# Problem conditions:\n",
    "# x' = f(t, x)\n",
    "# f(t, x) = g(t)*f(x) - u(t) \n",
    "# g(t) = 2*t^-0.8\n",
    "# f(x) = x*e^-x/10"
   ]
  },
  {
   "cell_type": "code",
   "execution_count": null,
   "metadata": {
    "id": "ihivIPHVKM0S"
   },
   "outputs": [],
   "source": [
    "# Python libraries\n",
    "import numpy as np\n",
    "import matplotlib.pyplot as plt\n",
    "from scipy.optimize import minimize"
   ]
  },
  {
   "cell_type": "code",
   "execution_count": null,
   "metadata": {
    "id": "sX09VaqOKUSM"
   },
   "outputs": [],
   "source": [
    "# Runge-Kutta method is not used because it takes too much time to calculate\n",
    "def calc_x_runge_cutt(U, N, T, tau, massg):\n",
    "    x = np.zeros(N)\n",
    "    x[0] = 25.0\n",
    "    1.0 / 0.0\n",
    "    for i in range(1, N):\n",
    "        k1 = massg[i-1] * (x[i-1] * np.exp(-0.1 * x[i-1])) - U[i-1]\n",
    "        pow_g = 0.5*(massg[i-1] + massg[i])\n",
    "        k2 = pow_g * ((x[i-1] + k1*(tau/2.0)) * np.exp(-0.1 * (x[i-1] + k1*tau/2.0))) - (U[i-1] + U[i])/2.0\n",
    "        k3 = pow_g * ((x[i-1] + k2*(tau/2.0)) * np.exp(-0.1 * (x[i-1] + k2*tau/2.0))) - (U[i-1] + U[i])/2.0\n",
    "        k4 = massg[i] * ((x[i-1] + k3*tau) * np.exp(-0.1 * (x[i-1] + k3*tau))) - U[i]\n",
    "        x[i] = x[i-1] + (tau / 6.0) * (k1 + 2.0*k2 + 2.0*k3 + k4)\n",
    "    return x"
   ]
  },
  {
   "cell_type": "code",
   "execution_count": null,
   "metadata": {
    "id": "g88xiFQYKnUB"
   },
   "outputs": [],
   "source": [
    "# Euler method is easier and takes less time to calculate \n",
    "def eyler_solver(U, N, T, tau, massg):\n",
    "    x = np.zeros(N)\n",
    "    x[0] = 25.0\n",
    "    for i in range(1, N):\n",
    "        x[i] = x[i-1] + tau*(massg[i-1] * (x[i-1] * np.exp(-0.1 * x[i-1])) - U[i-1])\n",
    "    return x"
   ]
  },
  {
   "cell_type": "code",
   "execution_count": null,
   "metadata": {
    "id": "07bPAP9mKUYv"
   },
   "outputs": [],
   "source": [
    "# J functional calculation\n",
    "def calc_J(U, N, T, tau, integral_1, massg):\n",
    "    in_integral_3 = eyler_solver(U, N, T, tau, massg) - 20.0 * np.ones(N)\n",
    "    integral_3 = np.ones(N)\n",
    "    integral_3[0] = 0.5\n",
    "    integral_3[-1] = 0.5\n",
    "    second = np.dot(integral_3, in_integral_3 * in_integral_3) * tau\n",
    "    return (np.dot(integral_1, U), second)"
   ]
  },
  {
   "cell_type": "code",
   "execution_count": null,
   "metadata": {
    "id": "THvQuRllBTi-"
   },
   "outputs": [],
   "source": [
    "# J functional calculation with lyambdas\n",
    "def calc_J_with_l(U, N, T, tau, l1, integral_1, massg):\n",
    "    first, second = calc_J(U, N, T, tau, integral_1, massg)\n",
    "    return l1 * first + (1.0 - l1) * second"
   ]
  },
  {
   "cell_type": "code",
   "execution_count": null,
   "metadata": {
    "id": "43onAlY35YrP"
   },
   "outputs": [],
   "source": [
    "# g(t) function\n",
    "def g_in_diff_eq(t):\n",
    "    return 2.0 * np.power(t + 5.0, -0.8);"
   ]
  },
  {
   "cell_type": "code",
   "execution_count": null,
   "metadata": {
    "id": "cG5_Hy_KdOvz"
   },
   "outputs": [],
   "source": [
    "# Optimal J functional searching\n",
    "def optimal_J(N, tau, T, l1):\n",
    "    integral_1 = np.array([-1.0 * tau * np.exp(- i * tau * 0.1) for i in range(0, N)])\n",
    "    integral_1[0] *= 0.5\n",
    "    integral_1[-1] *= 0.5\n",
    "    mass_of_g = np.array([g_in_diff_eq(tau * i) for i in range(0, N)])\n",
    "    U_init = 0.2 * np.ones(N)\n",
    "    opt = minimize(calc_J_with_l, U_init, method='SLSQP', args=(N, T, tau, l1, integral_1, mass_of_g),\n",
    "                   bounds=[(0.0, 15.0 / float(0.1 * i + 1.0)) for i in range(0, N)], options={'disp': True}) \n",
    "    return opt.x"
   ]
  },
  {
   "cell_type": "code",
   "execution_count": null,
   "metadata": {
    "colab": {
     "base_uri": "https://localhost:8080/"
    },
    "id": "-Ea0_7hIdOyN",
    "outputId": "6a403cda-da26-49b8-ec45-c80f0dc43afb"
   },
   "outputs": [],
   "source": [
    "# Values setting and getting the first results\n",
    "T = 35.0\n",
    "tau = 0.1\n",
    "N = int(T / tau)\n",
    "res_1 = optimal_J(N, tau, T, 0.5)"
   ]
  },
  {
   "cell_type": "code",
   "execution_count": null,
   "metadata": {
    "colab": {
     "base_uri": "https://localhost:8080/",
     "height": 474
    },
    "id": "sGQO8W2ddO0_",
    "outputId": "af444afe-7482-444a-a089-e58bbccc36b2"
   },
   "outputs": [
    {
     "data": {
      "text/plain": [
       "[<matplotlib.lines.Line2D at 0x7f6ac7b969d0>]"
      ]
     },
     "execution_count": 9,
     "metadata": {},
     "output_type": "execute_result"
    },
    {
     "data": {
      "image/png": "[encoded data removed]",
      "text/plain": [
       "<Figure size 720x432 with 2 Axes>"
      ]
     },
     "metadata": {
      "needs_background": "light"
     },
     "output_type": "display_data"
    }
   ],
   "source": [
    "# Graphs\n",
    "fg = plt.figure(figsize=(10, 6), constrained_layout=True)\n",
    "gs = fg.add_gridspec(1, 2)\n",
    "ax_1 = fg.add_subplot(gs[0,0])\n",
    "ax_1.set_title('Управление')\n",
    "ax_2 = fg.add_subplot(gs[0,1])\n",
    "ax_2.set_title('Состояние леса')\n",
    "ax_1.plot(res_1, color='red')\n",
    "ax_1.plot(np.zeros(N), color='black')\n",
    "ax_2.plot(eyler_solver(res_1, N, T, tau, np.array([g_in_diff_eq(tau*i) for i in range(0, N)])), color='green')\n",
    "ax_2.plot(20*np.ones(N), color='blue')"
   ]
  },
  {
   "cell_type": "code",
   "execution_count": null,
   "metadata": {
    "colab": {
     "base_uri": "https://localhost:8080/"
    },
    "id": "LZZdADZuColh",
    "outputId": "9f6e8e8e-083e-42a1-d088-f63dabc4ccd4"
   },
   "outputs": [
    {
     "data": {
      "text/plain": [
       "(-12.013110470968416, 3.3044853391077305)"
      ]
     },
     "execution_count": 10,
     "metadata": {},
     "output_type": "execute_result"
    }
   ],
   "source": [
    "# J functional value\n",
    "integral_1 = np.array([- 1.0 * tau * np.exp(- i * tau * 0.1) for i in range(0, N)])\n",
    "integral_1[0] *= 0.5\n",
    "integral_1[-1] *= 0.5\n",
    "mass_of_g = np.array([g_in_diff_eq(tau * i) for i in range(0, N)])\n",
    "calc_J(res_1, N, T, tau, integral_1, mass_of_g)"
   ]
  },
  {
   "cell_type": "code",
   "execution_count": null,
   "metadata": {
    "colab": {
     "base_uri": "https://localhost:8080/"
    },
    "id": "xgG6lcR9P-8_",
    "outputId": "5305fedd-334c-4ae3-ab85-6331cdfa379d"
   },
   "outputs": [],
   "source": [
    "# Getting the control with different lyambdas in [0.1, 0.9]\n",
    "T = 35.0\n",
    "tau = 0.1\n",
    "N = int(T / tau)\n",
    "mass_of_res = []\n",
    "for tmp_l in np.linspace(0.1, 0.9, 40):\n",
    "    tmp_res = optimal_J(N, tau, T, tmp_l)\n",
    "    mass_of_res.append(tmp_res)"
   ]
  },
  {
   "cell_type": "code",
   "execution_count": null,
   "metadata": {
    "colab": {
     "base_uri": "https://localhost:8080/",
     "height": 391
    },
    "id": "zzg1lUWpc4nu",
    "outputId": "22292e05-045f-4daa-8875-d684e78d8da5"
   },
   "outputs": [
    {
     "data": {
      "text/plain": [
       "<matplotlib.collections.PathCollection at 0x7f6ad724db90>"
      ]
     },
     "execution_count": 17,
     "metadata": {},
     "output_type": "execute_result"
    },
    {
     "data": {
      "image/png": "[encoded data removed]",
      "text/plain": [
       "<Figure size 720x432 with 1 Axes>"
      ]
     },
     "metadata": {
      "needs_background": "light"
     },
     "output_type": "display_data"
    }
   ],
   "source": [
    "# Results demonstration\n",
    "# Checking that these are the Slater points\n",
    "X, Y = [], []\n",
    "integral_1 = np.array([- 1.0 * tau * np.exp(- i * tau * 0.1) for i in range(0, N)])\n",
    "integral_1[0] *= 0.5\n",
    "integral_1[-1] *= 0.5\n",
    "mass_of_g = np.array([g_in_diff_eq(tau * i) for i in range(0, N)])\n",
    "for tmpres in mass_of_res:\n",
    "    x, y = calc_J(tmpres, N, T, tau, integral_1, mass_of_g)\n",
    "    X.append(x)\n",
    "    Y.append(y)\n",
    "fig, ax = plt.subplots(figsize=(10, 6))\n",
    "plt.scatter(X[:30], Y[:30])"
   ]
  },
  {
   "cell_type": "code",
   "execution_count": null,
   "metadata": {
    "colab": {
     "base_uri": "https://localhost:8080/",
     "height": 391
    },
    "id": "FMa6kzghTRPQ",
    "outputId": "db8e56dc-7e32-41d7-e67c-bc13c9d9ec67"
   },
   "outputs": [],
   "source": [
    "# Graph extension\n",
    "# Checking that these are the Slater points\n",
    "fig, ax = plt.subplots(figsize=(10, 6))\n",
    "plt.scatter(X[:10], Y[:10])"
   ]
  },
  {
   "cell_type": "code",
   "execution_count": null,
   "metadata": {
    "colab": {
     "base_uri": "https://localhost:8080/",
     "height": 282
    },
    "id": "iFnKZRI6m24W",
    "outputId": "264c3820-e833-4393-8861-f934307be41b"
   },
   "outputs": [
    {
     "data": {
      "text/plain": [
       "[<matplotlib.lines.Line2D at 0x7f6abf59fcd0>]"
      ]
     },
     "execution_count": 14,
     "metadata": {},
     "output_type": "execute_result"
    },
    {
     "data": {
      "image/png": "[encoded data removed]",
      "text/plain": [
       "<Figure size 432x288 with 1 Axes>"
      ]
     },
     "metadata": {
      "needs_background": "light"
     },
     "output_type": "display_data"
    }
   ],
   "source": [
    "# Trying to get normal initial conditions\n",
    "mass_of_g = np.array([g_in_diff_eq(tau * i) for i in range(0, N)])\n",
    "outes = eyler_solver(0.2 * np.ones(N), N, T, tau, mass_of_g)\n",
    "plt.plot(outes)"
   ]
  },
  {
   "cell_type": "code",
   "execution_count": null,
   "metadata": {
    "colab": {
     "base_uri": "https://localhost:8080/"
    },
    "id": "eRdp5WITRNzR",
    "outputId": "023b06e9-1c82-4e64-9632-8d3bc711aefb"
   },
   "outputs": [
    {
     "data": {
      "text/plain": [
       "0.010000000000000002"
      ]
     },
     "execution_count": 13,
     "metadata": {},
     "output_type": "execute_result"
    }
   ],
   "source": []
  }
 ],
 "metadata": {
  "colab": {
   "collapsed_sections": [],
   "name": "metopty_2.ipynb",
   "provenance": []
  },
  "kernelspec": {
   "display_name": "Python 3",
   "language": "python",
   "name": "python3"
  },
  "language_info": {
   "codemirror_mode": {
    "name": "ipython",
    "version": 3
   },
   "file_extension": ".py",
   "mimetype": "text/x-python",
   "name": "python",
   "nbconvert_exporter": "python",
   "pygments_lexer": "ipython3",
   "version": "3.8.3"
  }
 },
 "nbformat": 4,
 "nbformat_minor": 1
}
